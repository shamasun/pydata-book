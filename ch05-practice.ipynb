{
 "cells": [
  {
   "cell_type": "markdown",
   "metadata": {},
   "source": [
    "# Getting Started with pandas"
   ]
  },
  {
   "cell_type": "code",
   "execution_count": 1,
   "metadata": {},
   "outputs": [],
   "source": [
    "import pandas as pd\n",
    "import numpy as np"
   ]
  },
  {
   "cell_type": "code",
   "execution_count": 4,
   "metadata": {},
   "outputs": [
    {
     "name": "stdout",
     "output_type": "stream",
     "text": [
      "America     16000.0\n",
      "Britain     71000.0\n",
      "Columbia    35000.0\n",
      "Django          NaN\n",
      "Egbert          NaN\n",
      "France          NaN\n",
      "dtype: float64\n"
     ]
    },
    {
     "data": {
      "text/plain": [
       "America     16000.0\n",
       "Britain     71000.0\n",
       "Columbia    35000.0\n",
       "dtype: float64"
      ]
     },
     "execution_count": 4,
     "metadata": {},
     "output_type": "execute_result"
    }
   ],
   "source": [
    "test = pd.Series(np.arange(6), index=['a','b','c','d','e','f'])\n",
    "index = test.index\n",
    "(index > 'a') & (index < 'f')\n",
    "'b' in test\n",
    "sdata = {'c': 35000, 'b': 71000, 'a': 16000, 'z': 5000}\n",
    "mySeries = pd.Series(sdata, index=index)\n",
    "mySeries.index = ['America', 'Britain', 'Columbia', 'Django', 'Egbert', 'France']\n",
    "print(mySeries)\n",
    "mySeries[mySeries>2]"
   ]
  },
  {
   "cell_type": "markdown",
   "metadata": {},
   "source": [
    "#### Data returned from indexing a dataframe is a view only"
   ]
  },
  {
   "cell_type": "code",
   "execution_count": 27,
   "metadata": {},
   "outputs": [
    {
     "name": "stdout",
     "output_type": "stream",
     "text": [
      "   Ohio  Texas  Oregon  Utah\n",
      "0     0      1       2     3\n",
      "1     4      5       6     7\n"
     ]
    },
    {
     "data": {
      "text/html": [
       "<div>\n",
       "<style scoped>\n",
       "    .dataframe tbody tr th:only-of-type {\n",
       "        vertical-align: middle;\n",
       "    }\n",
       "\n",
       "    .dataframe tbody tr th {\n",
       "        vertical-align: top;\n",
       "    }\n",
       "\n",
       "    .dataframe thead th {\n",
       "        text-align: right;\n",
       "    }\n",
       "</style>\n",
       "<table border=\"1\" class=\"dataframe\">\n",
       "  <thead>\n",
       "    <tr style=\"text-align: right;\">\n",
       "      <th></th>\n",
       "      <th>Ohio</th>\n",
       "      <th>Texas</th>\n",
       "      <th>Oregon</th>\n",
       "      <th>Utah</th>\n",
       "    </tr>\n",
       "  </thead>\n",
       "  <tbody>\n",
       "    <tr>\n",
       "      <th>0</th>\n",
       "      <td>0</td>\n",
       "      <td>1</td>\n",
       "      <td>2</td>\n",
       "      <td>3</td>\n",
       "    </tr>\n",
       "    <tr>\n",
       "      <th>1</th>\n",
       "      <td>4</td>\n",
       "      <td>5</td>\n",
       "      <td>7</td>\n",
       "      <td>7</td>\n",
       "    </tr>\n",
       "  </tbody>\n",
       "</table>\n",
       "</div>"
      ],
      "text/plain": [
       "   Ohio  Texas  Oregon  Utah\n",
       "0     0      1       2     3\n",
       "1     4      5       7     7"
      ]
     },
     "execution_count": 27,
     "metadata": {},
     "output_type": "execute_result"
    }
   ],
   "source": [
    "mydf = pd.DataFrame(np.arange(8).reshape(2, 4), columns=['Ohio', 'Texas', 'Oregon', 'Utah'])\n",
    "print(mydf)\n",
    "mydf2 = mydf['Oregon']\n",
    "mydf2.loc[1] = 7 # a change in-place\n",
    "mydf"
   ]
  },
  {
   "cell_type": "markdown",
   "metadata": {},
   "source": [
    "#### Data returned from indexing a numpy array is a view only"
   ]
  },
  {
   "cell_type": "code",
   "execution_count": 30,
   "metadata": {},
   "outputs": [
    {
     "name": "stdout",
     "output_type": "stream",
     "text": [
      "[[1 1 1]\n",
      " [1 1 1]\n",
      " [1 1 1]]\n",
      "[[1 1 1]\n",
      " [1 0 0]\n",
      " [1 0 0]]\n"
     ]
    }
   ],
   "source": [
    "arr = np.ones((3, 3), dtype = 'int')\n",
    "varr0 = arr[1:,1:]\n",
    "varr1 = arr[1:,1:]\n",
    "# Case 1:\n",
    "varr0 = 0\n",
    "print(arr) # no change to original arr\n",
    "# Case 2:\n",
    "varr1[:] = 0 # a change in-place\n",
    "print(arr) # original arr has been changed!"
   ]
  },
  {
   "cell_type": "markdown",
   "metadata": {},
   "source": [
    " - If a slice is assigned to an object; and\n",
    " - If this object (which is a view) is modified in part. That is, not when its overwritten altogether as in Case 1\n",
    " \n",
    " ...then, the original array is modified"
   ]
  },
  {
   "cell_type": "markdown",
   "metadata": {},
   "source": [
    "#### A sample of several methods available with an Index object"
   ]
  },
  {
   "cell_type": "code",
   "execution_count": 17,
   "metadata": {},
   "outputs": [
    {
     "name": "stdout",
     "output_type": "stream",
     "text": [
      "Index(['a', 'b'], dtype='object')\n",
      "Index(['a', 'b'], dtype='object')\n",
      "Index(['a', 'b', 'c'], dtype='object')\n"
     ]
    }
   ],
   "source": [
    "index = pd.Index(['a', 'b', 'a'])\n",
    "addnl = pd.Index(['a', 'b', 'c'])\n",
    "addnl1 = addnl.delete(2)\n",
    "addnl2 = addnl.drop(['c'])\n",
    "addnl3 = addnl2.insert(2, 'c')\n",
    "print(addnl1)\n",
    "print(addnl2)\n",
    "print(addnl3)"
   ]
  },
  {
   "cell_type": "code",
   "execution_count": 24,
   "metadata": {},
   "outputs": [
    {
     "name": "stdout",
     "output_type": "stream",
     "text": [
      "   Ohio  Texas  Oregon  Utah\n",
      "0     0      1       2     3\n",
      "1     4      5       6     7\n",
      "   Ohio  Texas  Oregon  Utah\n",
      "0     0      1       2     3\n",
      "1     4      5       6     7\n",
      "2     4      5       6     7\n",
      "3     4      5       6     7\n",
      "   Ohio  Texas  Oregon  Utah  West Virginia\n",
      "0     0      1       2     3            NaN\n",
      "1     4      5       6     7            NaN\n",
      "2     4      5       6     7            NaN\n",
      "3     4      5       6     7            NaN\n"
     ]
    }
   ],
   "source": [
    "mydf = pd.DataFrame(np.arange(8).reshape(2, 4), columns=['Ohio', 'Texas', 'Oregon', 'Utah'])\n",
    "print(mydf)\n",
    "mydf = mydf.reindex([0, 1, 2, 3], method='ffill') # forward-fill\n",
    "print(mydf)\n",
    "states = ['Ohio', 'Texas', 'Oregon', 'Utah', 'West Virginia']\n",
    "mydf = mydf.reindex(columns=states)\n",
    "print(mydf)"
   ]
  },
  {
   "cell_type": "code",
   "execution_count": 44,
   "metadata": {},
   "outputs": [
    {
     "name": "stdout",
     "output_type": "stream",
     "text": [
      "   Ohio  Texas  Oregon  Utah\n",
      "0     0      1       2     3\n",
      "1     4      5       6     7\n",
      "   Ohio  Texas  Oregon  Utah  West Virginia\n",
      "0   0.0    1.0     2.0   3.0            NaN\n",
      "1   4.0    5.0     6.0   7.0            NaN\n",
      "2   NaN    NaN     NaN   NaN            NaN\n",
      "3   NaN    NaN     NaN   NaN            NaN\n"
     ]
    },
    {
     "data": {
      "text/html": [
       "<div>\n",
       "<style scoped>\n",
       "    .dataframe tbody tr th:only-of-type {\n",
       "        vertical-align: middle;\n",
       "    }\n",
       "\n",
       "    .dataframe tbody tr th {\n",
       "        vertical-align: top;\n",
       "    }\n",
       "\n",
       "    .dataframe thead th {\n",
       "        text-align: right;\n",
       "    }\n",
       "</style>\n",
       "<table border=\"1\" class=\"dataframe\">\n",
       "  <thead>\n",
       "    <tr style=\"text-align: right;\">\n",
       "      <th></th>\n",
       "      <th>Ohio</th>\n",
       "      <th>Texas</th>\n",
       "      <th>Oregon</th>\n",
       "      <th>Utah</th>\n",
       "    </tr>\n",
       "  </thead>\n",
       "  <tbody>\n",
       "    <tr>\n",
       "      <th>0</th>\n",
       "      <td>0.0</td>\n",
       "      <td>1.0</td>\n",
       "      <td>2.0</td>\n",
       "      <td>3.0</td>\n",
       "    </tr>\n",
       "    <tr>\n",
       "      <th>1</th>\n",
       "      <td>4.0</td>\n",
       "      <td>5.0</td>\n",
       "      <td>6.0</td>\n",
       "      <td>7.0</td>\n",
       "    </tr>\n",
       "  </tbody>\n",
       "</table>\n",
       "</div>"
      ],
      "text/plain": [
       "   Ohio  Texas  Oregon  Utah\n",
       "0   0.0    1.0     2.0   3.0\n",
       "1   4.0    5.0     6.0   7.0"
      ]
     },
     "execution_count": 44,
     "metadata": {},
     "output_type": "execute_result"
    }
   ],
   "source": [
    "mydf = pd.DataFrame(np.arange(8).reshape(2, 4), columns=['Ohio', 'Texas', 'Oregon', 'Utah'])\n",
    "print(mydf)\n",
    "states = ['Ohio', 'Texas', 'Oregon', 'Utah', 'West Virginia']\n",
    "mydf = mydf.reindex([0, 1, 2, 3], columns=states)\n",
    "print(mydf)\n",
    "mydf.drop([2, 3], axis=0).drop(['West Virginia'], axis=1)"
   ]
  },
  {
   "cell_type": "code",
   "execution_count": 38,
   "metadata": {},
   "outputs": [
    {
     "name": "stdout",
     "output_type": "stream",
     "text": [
      "RangeIndex(start=0, stop=2, step=1)\n",
      "Int64Index([1], dtype='int64')\n",
      "   Ohio  Texas  Oregon  Utah\n",
      "1     4      5       6     7\n"
     ]
    },
    {
     "data": {
      "text/plain": [
       "Int64Index([0], dtype='int64')"
      ]
     },
     "execution_count": 38,
     "metadata": {},
     "output_type": "execute_result"
    }
   ],
   "source": [
    "mydf = pd.DataFrame(np.arange(8).reshape(2, 4), columns=['Ohio', 'Texas', 'Oregon', 'Utah'])\n",
    "newIndex = pd.Index([1])\n",
    "# ?pd.Index()\n",
    "print(mydf.index)\n",
    "print(newIndex)\n",
    "mydf2 = pd.DataFrame(mydf, index = newIndex)\n",
    "print(mydf2)\n",
    "mydf.drop([1], inplace=True) # the mydf.index object is altered as a result\n",
    "mydf.index"
   ]
  },
  {
   "cell_type": "markdown",
   "metadata": {},
   "source": [
    "#### Indexing, Selection, and Filtering"
   ]
  },
  {
   "cell_type": "code",
   "execution_count": 49,
   "metadata": {},
   "outputs": [
    {
     "name": "stdout",
     "output_type": "stream",
     "text": [
      "a    0.0\n",
      "b    5.0\n",
      "c    5.0\n",
      "d    3.0\n",
      "dtype: float64\n"
     ]
    }
   ],
   "source": [
    "obj = pd.Series(np.arange(4.), index=['a', 'b', 'c', 'd'])\n",
    "obj1 = obj['b':'c']\n",
    "obj1[:] = 5 # This is setting value on a view. Not on a copy!\n",
    "print(obj) "
   ]
  },
  {
   "cell_type": "code",
   "execution_count": 52,
   "metadata": {},
   "outputs": [
    {
     "name": "stdout",
     "output_type": "stream",
     "text": [
      "               b         d         e\n",
      "Utah    1.583610  0.907536 -1.644846\n",
      "Ohio    1.384444 -0.955096 -0.355440\n",
      "Texas  -1.662108 -1.699967 -0.459282\n",
      "Oregon -2.215677 -0.143443 -0.749859\n"
     ]
    },
    {
     "data": {
      "text/html": [
       "<div>\n",
       "<style scoped>\n",
       "    .dataframe tbody tr th:only-of-type {\n",
       "        vertical-align: middle;\n",
       "    }\n",
       "\n",
       "    .dataframe tbody tr th {\n",
       "        vertical-align: top;\n",
       "    }\n",
       "\n",
       "    .dataframe thead th {\n",
       "        text-align: right;\n",
       "    }\n",
       "</style>\n",
       "<table border=\"1\" class=\"dataframe\">\n",
       "  <thead>\n",
       "    <tr style=\"text-align: right;\">\n",
       "      <th></th>\n",
       "      <th>b</th>\n",
       "      <th>d</th>\n",
       "      <th>e</th>\n",
       "    </tr>\n",
       "  </thead>\n",
       "  <tbody>\n",
       "    <tr>\n",
       "      <th>Utah</th>\n",
       "      <td>3.167219</td>\n",
       "      <td>1.815071</td>\n",
       "      <td>-3.289692</td>\n",
       "    </tr>\n",
       "    <tr>\n",
       "      <th>Ohio</th>\n",
       "      <td>2.768887</td>\n",
       "      <td>-1.910192</td>\n",
       "      <td>-0.710881</td>\n",
       "    </tr>\n",
       "    <tr>\n",
       "      <th>Texas</th>\n",
       "      <td>-3.324217</td>\n",
       "      <td>-3.399934</td>\n",
       "      <td>-0.918565</td>\n",
       "    </tr>\n",
       "    <tr>\n",
       "      <th>Oregon</th>\n",
       "      <td>-4.431354</td>\n",
       "      <td>-0.286886</td>\n",
       "      <td>-1.499719</td>\n",
       "    </tr>\n",
       "  </tbody>\n",
       "</table>\n",
       "</div>"
      ],
      "text/plain": [
       "               b         d         e\n",
       "Utah    3.167219  1.815071 -3.289692\n",
       "Ohio    2.768887 -1.910192 -0.710881\n",
       "Texas  -3.324217 -3.399934 -0.918565\n",
       "Oregon -4.431354 -0.286886 -1.499719"
      ]
     },
     "execution_count": 52,
     "metadata": {},
     "output_type": "execute_result"
    }
   ],
   "source": [
    "frame = pd.DataFrame(np.random.randn(4, 3), columns=list('bde'), index=['Utah', 'Ohio', 'Texas', 'Oregon'])\n",
    "frame1 = frame.copy()\n",
    "print(frame)\n",
    "np.add(frame, frame1) # So, a binary ufunc also works with a pandas DataFrame"
   ]
  },
  {
   "cell_type": "code",
   "execution_count": 73,
   "metadata": {},
   "outputs": [
    {
     "name": "stdout",
     "output_type": "stream",
     "text": [
      "        b   d   e\n",
      "Utah    0   1   2\n",
      "Ohio    3   4   5\n",
      "Texas   6   7   8\n",
      "Oregon  9  10  11\n",
      "      b  d  e\n",
      "Utah  0  1  2\n",
      "Ohio  3  4  5\n",
      "          b    d    e\n",
      "Utah    0.0  1.0  2.0\n",
      "Ohio    3.0  4.0  5.0\n",
      "Texas   0.0  0.0  0.0\n",
      "Oregon  0.0  0.0  0.0\n",
      "411 µs ± 912 ns per loop (mean ± std. dev. of 7 runs, 1000 loops each)\n",
      "220 µs ± 614 ns per loop (mean ± std. dev. of 7 runs, 1000 loops each)\n"
     ]
    }
   ],
   "source": [
    "frame = pd.DataFrame(np.arange(12).reshape((4, 3)), columns=list('bde'), index=['Utah', 'Ohio', 'Texas', 'Oregon'])\n",
    "frame1 = pd.DataFrame(np.arange(6).reshape((2, 3)), columns=list('bde'), index=['Utah', 'Ohio'])\n",
    "print(frame)\n",
    "print(frame1)\n",
    "# np.add(frame, frame1) # This fails\n",
    "# frame + frame1\n",
    "allIndex = frame.index.append(frame1.index).unique()\n",
    "allCols = frame.columns.append(frame1.columns).unique()\n",
    "frame1 = frame1.reindex(allIndex, columns=allCols)\n",
    "frame1.fillna(0, inplace=True)\n",
    "print(frame1)\n",
    "%timeit (frame + frame1)\n",
    "%timeit np.add(frame, frame1)"
   ]
  },
  {
   "cell_type": "code",
   "execution_count": 10,
   "metadata": {},
   "outputs": [
    {
     "data": {
      "text/html": [
       "<div>\n",
       "<style scoped>\n",
       "    .dataframe tbody tr th:only-of-type {\n",
       "        vertical-align: middle;\n",
       "    }\n",
       "\n",
       "    .dataframe tbody tr th {\n",
       "        vertical-align: top;\n",
       "    }\n",
       "\n",
       "    .dataframe thead th {\n",
       "        text-align: right;\n",
       "    }\n",
       "</style>\n",
       "<table border=\"1\" class=\"dataframe\">\n",
       "  <thead>\n",
       "    <tr style=\"text-align: right;\">\n",
       "      <th></th>\n",
       "      <th>A</th>\n",
       "      <th>B</th>\n",
       "      <th>C</th>\n",
       "      <th>D</th>\n",
       "    </tr>\n",
       "  </thead>\n",
       "  <tbody>\n",
       "    <tr>\n",
       "      <th>a</th>\n",
       "      <td>-1.293870</td>\n",
       "      <td>0.687329</td>\n",
       "      <td>-0.716578</td>\n",
       "      <td>0.400970</td>\n",
       "    </tr>\n",
       "    <tr>\n",
       "      <th>b</th>\n",
       "      <td>-0.281057</td>\n",
       "      <td>-0.782575</td>\n",
       "      <td>0.652666</td>\n",
       "      <td>0.934821</td>\n",
       "    </tr>\n",
       "    <tr>\n",
       "      <th>c</th>\n",
       "      <td>-0.096968</td>\n",
       "      <td>-0.986343</td>\n",
       "      <td>1.278637</td>\n",
       "      <td>0.438146</td>\n",
       "    </tr>\n",
       "    <tr>\n",
       "      <th>d</th>\n",
       "      <td>0.908033</td>\n",
       "      <td>-0.274317</td>\n",
       "      <td>-1.362896</td>\n",
       "      <td>-1.279395</td>\n",
       "    </tr>\n",
       "    <tr>\n",
       "      <th>e</th>\n",
       "      <td>-0.695339</td>\n",
       "      <td>0.083161</td>\n",
       "      <td>0.684865</td>\n",
       "      <td>-0.141858</td>\n",
       "    </tr>\n",
       "    <tr>\n",
       "      <th>f</th>\n",
       "      <td>-0.303511</td>\n",
       "      <td>0.002265</td>\n",
       "      <td>-0.853706</td>\n",
       "      <td>0.695146</td>\n",
       "    </tr>\n",
       "    <tr>\n",
       "      <th>g</th>\n",
       "      <td>-0.530764</td>\n",
       "      <td>-1.092332</td>\n",
       "      <td>-0.394616</td>\n",
       "      <td>1.309485</td>\n",
       "    </tr>\n",
       "    <tr>\n",
       "      <th>h</th>\n",
       "      <td>-0.444328</td>\n",
       "      <td>0.092078</td>\n",
       "      <td>-0.408571</td>\n",
       "      <td>-0.517995</td>\n",
       "    </tr>\n",
       "  </tbody>\n",
       "</table>\n",
       "</div>"
      ],
      "text/plain": [
       "          A         B         C         D\n",
       "a -1.293870  0.687329 -0.716578  0.400970\n",
       "b -0.281057 -0.782575  0.652666  0.934821\n",
       "c -0.096968 -0.986343  1.278637  0.438146\n",
       "d  0.908033 -0.274317 -1.362896 -1.279395\n",
       "e -0.695339  0.083161  0.684865 -0.141858\n",
       "f -0.303511  0.002265 -0.853706  0.695146\n",
       "g -0.530764 -1.092332 -0.394616  1.309485\n",
       "h -0.444328  0.092078 -0.408571 -0.517995"
      ]
     },
     "execution_count": 10,
     "metadata": {},
     "output_type": "execute_result"
    }
   ],
   "source": [
    "df = pd.DataFrame(np.random.randn(8, 4), columns=['A','B','C','D'], index=list('abcdefgh'))\n",
    "df"
   ]
  },
  {
   "cell_type": "code",
   "execution_count": 12,
   "metadata": {},
   "outputs": [
    {
     "data": {
      "text/html": [
       "<div>\n",
       "<style scoped>\n",
       "    .dataframe tbody tr th:only-of-type {\n",
       "        vertical-align: middle;\n",
       "    }\n",
       "\n",
       "    .dataframe tbody tr th {\n",
       "        vertical-align: top;\n",
       "    }\n",
       "\n",
       "    .dataframe thead th {\n",
       "        text-align: right;\n",
       "    }\n",
       "</style>\n",
       "<table border=\"1\" class=\"dataframe\">\n",
       "  <thead>\n",
       "    <tr style=\"text-align: right;\">\n",
       "      <th></th>\n",
       "      <th>A</th>\n",
       "      <th>B</th>\n",
       "      <th>C</th>\n",
       "      <th>D</th>\n",
       "    </tr>\n",
       "  </thead>\n",
       "  <tbody>\n",
       "    <tr>\n",
       "      <th>a</th>\n",
       "      <td>-1.293870</td>\n",
       "      <td>0.687329</td>\n",
       "      <td>-0.716578</td>\n",
       "      <td>0.400970</td>\n",
       "    </tr>\n",
       "    <tr>\n",
       "      <th>b</th>\n",
       "      <td>-0.281057</td>\n",
       "      <td>-0.782575</td>\n",
       "      <td>0.652666</td>\n",
       "      <td>0.934821</td>\n",
       "    </tr>\n",
       "    <tr>\n",
       "      <th>c</th>\n",
       "      <td>-0.096968</td>\n",
       "      <td>-0.986343</td>\n",
       "      <td>1.278637</td>\n",
       "      <td>0.438146</td>\n",
       "    </tr>\n",
       "    <tr>\n",
       "      <th>d</th>\n",
       "      <td>0.908033</td>\n",
       "      <td>-0.274317</td>\n",
       "      <td>-1.362896</td>\n",
       "      <td>-1.279395</td>\n",
       "    </tr>\n",
       "    <tr>\n",
       "      <th>e</th>\n",
       "      <td>-0.695339</td>\n",
       "      <td>0.083161</td>\n",
       "      <td>0.684865</td>\n",
       "      <td>-0.141858</td>\n",
       "    </tr>\n",
       "    <tr>\n",
       "      <th>f</th>\n",
       "      <td>-0.303511</td>\n",
       "      <td>0.002265</td>\n",
       "      <td>-0.853706</td>\n",
       "      <td>0.695146</td>\n",
       "    </tr>\n",
       "    <tr>\n",
       "      <th>g</th>\n",
       "      <td>-0.530764</td>\n",
       "      <td>-1.092332</td>\n",
       "      <td>-0.394616</td>\n",
       "      <td>1.309485</td>\n",
       "    </tr>\n",
       "    <tr>\n",
       "      <th>h</th>\n",
       "      <td>-0.444328</td>\n",
       "      <td>0.092078</td>\n",
       "      <td>-0.408571</td>\n",
       "      <td>-0.517995</td>\n",
       "    </tr>\n",
       "    <tr>\n",
       "      <th>d</th>\n",
       "      <td>0.908033</td>\n",
       "      <td>-0.274317</td>\n",
       "      <td>-1.362896</td>\n",
       "      <td>-1.279395</td>\n",
       "    </tr>\n",
       "  </tbody>\n",
       "</table>\n",
       "</div>"
      ],
      "text/plain": [
       "          A         B         C         D\n",
       "a -1.293870  0.687329 -0.716578  0.400970\n",
       "b -0.281057 -0.782575  0.652666  0.934821\n",
       "c -0.096968 -0.986343  1.278637  0.438146\n",
       "d  0.908033 -0.274317 -1.362896 -1.279395\n",
       "e -0.695339  0.083161  0.684865 -0.141858\n",
       "f -0.303511  0.002265 -0.853706  0.695146\n",
       "g -0.530764 -1.092332 -0.394616  1.309485\n",
       "h -0.444328  0.092078 -0.408571 -0.517995\n",
       "d  0.908033 -0.274317 -1.362896 -1.279395"
      ]
     },
     "execution_count": 12,
     "metadata": {},
     "output_type": "execute_result"
    }
   ],
   "source": [
    "s = df.iloc[3]\n",
    "df.append(s, ignore_index=False)"
   ]
  },
  {
   "cell_type": "code",
   "execution_count": 13,
   "metadata": {},
   "outputs": [],
   "source": [
    "df = pd.DataFrame({'A' : ['foo', 'bar', 'foo', 'bar','foo', 'bar', 'foo', 'foo'],\n",
    "                   'B' : ['one', 'one', 'two', 'three','two', 'two', 'one', 'three'],\n",
    "                   'C' : np.random.randn(8),\n",
    "                   'D' : np.random.randn(8)})"
   ]
  },
  {
   "cell_type": "code",
   "execution_count": 39,
   "metadata": {},
   "outputs": [
    {
     "name": "stdout",
     "output_type": "stream",
     "text": [
      "     A      B         C         D\n",
      "0  foo    one  2.641527 -0.446129\n",
      "1  bar    one  0.242199 -0.021328\n",
      "2  foo    two  0.788467 -0.812746\n",
      "3  bar  three -0.444548 -0.019022\n",
      "4  foo    two  1.068423  0.016479\n",
      "5  bar    two -0.802127  0.195753\n",
      "6  foo    one  0.449126  0.373463\n",
      "7  foo  three -0.343600 -1.942340\n"
     ]
    },
    {
     "data": {
      "text/plain": [
       "0  A          foo\n",
       "   B          one\n",
       "   C      2.64153\n",
       "   D    -0.446129\n",
       "1  A          bar\n",
       "   B          one\n",
       "   C     0.242199\n",
       "   D   -0.0213277\n",
       "2  A          foo\n",
       "   B          two\n",
       "   C     0.788467\n",
       "   D    -0.812746\n",
       "3  A          bar\n",
       "   B        three\n",
       "   C    -0.444548\n",
       "   D    -0.019022\n",
       "4  A          foo\n",
       "   B          two\n",
       "   C      1.06842\n",
       "   D    0.0164794\n",
       "5  A          bar\n",
       "   B          two\n",
       "   C    -0.802127\n",
       "   D     0.195753\n",
       "6  A          foo\n",
       "   B          one\n",
       "   C     0.449126\n",
       "   D     0.373463\n",
       "7  A          foo\n",
       "   B        three\n",
       "   C      -0.3436\n",
       "   D     -1.94234\n",
       "dtype: object"
      ]
     },
     "execution_count": 39,
     "metadata": {},
     "output_type": "execute_result"
    }
   ],
   "source": [
    "df2 = df.groupby(['A', 'B']).sum()\n",
    "print(df)\n",
    "df.stack()"
   ]
  },
  {
   "cell_type": "code",
   "execution_count": null,
   "metadata": {},
   "outputs": [],
   "source": []
  }
 ],
 "metadata": {
  "kernelspec": {
   "display_name": "Python 3",
   "language": "python",
   "name": "python3"
  },
  "language_info": {
   "codemirror_mode": {
    "name": "ipython",
    "version": 3
   },
   "file_extension": ".py",
   "mimetype": "text/x-python",
   "name": "python",
   "nbconvert_exporter": "python",
   "pygments_lexer": "ipython3",
   "version": "3.6.6"
  }
 },
 "nbformat": 4,
 "nbformat_minor": 1
}
